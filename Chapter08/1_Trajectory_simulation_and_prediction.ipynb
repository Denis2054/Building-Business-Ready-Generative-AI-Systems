{
  "nbformat": 4,
  "nbformat_minor": 0,
  "metadata": {
    "colab": {
      "provenance": []
    },
    "kernelspec": {
      "name": "python3",
      "display_name": "Python 3"
    },
    "language_info": {
      "name": "python"
    }
  },
  "cells": [
    {
      "cell_type": "markdown",
      "source": [
        "# Generic Synthetic Trajectory Simulation and Predictive System\n",
        "\n",
        "Copyright 2025, Denis Rothman\n",
        "\n",
        "This notebook demonstrates a synthetic trajectory simulation and predictive system for human mobility. It generates random movement data across a predefined grid, flags certain points as missing, and then uses a generative AI model to predict and replace those missing values.\n",
        "\n",
        "---\n",
        "\n",
        "**Table of Contents**  \n",
        "1. **Importing Libraries and Setup**  \n",
        "2. **Grid Definition and Parameters**  \n",
        "3. **Trajectory Generation**  \n",
        "4. **Injecting Missing Steps**  \n",
        "5. **Visualization of Trajectories**  \n",
        "6. **Preparing System Messages for AI Prediction**  \n",
        "7. **Inference and Replacement of Missing Steps**  \n",
        "\n",
        "**Note:** This educational notebook implemented with an OpenAI GenAI model is based on Tang, P., Yang, C., Xing, T., Xu, X., Jiang, R., and Sezaki, K. (2024). Instruction-Tuning Llama-3-8B Excels in City-Scale Mobility Prediction.https://arxiv.org/abs/2410.23692\n"
      ],
      "metadata": {
        "id": "5JiCaUiH-oRR"
      }
    },
    {
      "cell_type": "markdown",
      "source": [
        "# Setting up the environment"
      ],
      "metadata": {
        "id": "e5uQHWJhulXu"
      }
    },
    {
      "cell_type": "markdown",
      "source": [
        "This notebook was developed in Google Colab. Colab includes many pre-installed libraries and sets `/content/` as the default directory, meaning you can access files directly by their filename if you wish (e.g., `filename` instead of needing to specify `/content/filename`). This differs from local environments, where you'll often need to install libraries or specify full file paths."
      ],
      "metadata": {
        "id": "Nb0mHg3p4yBV"
      }
    },
    {
      "cell_type": "markdown",
      "source": [
        "## File downloading script\n",
        "\n",
        "grequests contains a script to download files from the repository"
      ],
      "metadata": {
        "id": "S8_G2ePO11rQ"
      }
    },
    {
      "cell_type": "code",
      "source": [
        "!curl -L https://raw.githubusercontent.com/Denis2054/Building-Business-Ready-Generative-AI-Systems/master/commons/grequests.py --output grequests.py"
      ],
      "metadata": {
        "id": "vzkCTNNChWAJ"
      },
      "execution_count": null,
      "outputs": []
    },
    {
      "cell_type": "markdown",
      "source": [
        "### Installing OpenAI"
      ],
      "metadata": {
        "id": "9kNLfjTfAnFR"
      }
    },
    {
      "cell_type": "code",
      "source": [
        "from grequests import download\n",
        "download(\"commons\",\"requirements01.py\")\n",
        "download(\"commons\",\"openai_setup.py\")\n",
        "download(\"commons\",\"reason.py\")\n",
        "download(\"commons\",\"machine_learning.py\")"
      ],
      "metadata": {
        "id": "G_PuE5rjhWAK",
        "colab": {
          "base_uri": "https://localhost:8080/"
        },
        "outputId": "20056005-5fd5-495e-fc37-fb7020317c46"
      },
      "execution_count": null,
      "outputs": [
        {
          "output_type": "stream",
          "name": "stdout",
          "text": [
            "Downloaded 'requirements01.py' successfully.\n",
            "Downloaded 'openai_setup.py' successfully.\n",
            "Downloaded 'reason.py' successfully.\n",
            "Downloaded 'machine_learning.py' successfully.\n"
          ]
        }
      ]
    },
    {
      "cell_type": "code",
      "source": [
        "# Run the setup script to install and import dependencies\n",
        "%run requirements01"
      ],
      "metadata": {
        "id": "a7i8j5vnpatH",
        "colab": {
          "base_uri": "https://localhost:8080/"
        },
        "outputId": "a9fa37af-4835-4979-9789-938c72e1c512"
      },
      "execution_count": null,
      "outputs": [
        {
          "output_type": "stream",
          "name": "stdout",
          "text": [
            "Uninstalling 'openai'...\n",
            "Installing 'openai' version 1.57.1...\n",
            "'openai' version 1.57.1 is installed.\n"
          ]
        }
      ]
    },
    {
      "cell_type": "markdown",
      "source": [
        "#### Initializing the OpenAI API key\n",
        "\n"
      ],
      "metadata": {
        "id": "O03SZzGGAreV"
      }
    },
    {
      "cell_type": "code",
      "source": [
        "google_secrets=True #activates Google secrets in Google Colab\n",
        "if google_secrets==True:\n",
        "  import openai_setup\n",
        "  openai_setup.initialize_openai_api()"
      ],
      "metadata": {
        "id": "pDn09vPbAXPT",
        "colab": {
          "base_uri": "https://localhost:8080/"
        },
        "outputId": "d4346c9a-3ccf-4b32-86e0-6c5d7e03e7da"
      },
      "execution_count": null,
      "outputs": [
        {
          "output_type": "stream",
          "name": "stdout",
          "text": [
            "OpenAI API key initialized successfully.\n"
          ]
        }
      ]
    },
    {
      "cell_type": "code",
      "source": [
        "if google_secrets==False: # Uncomment the code and choose any method you wish to initialize the API_KEY\n",
        "  import os\n",
        "  #API_KEY=[YOUR API_KEY]\n",
        "  #os.environ['OPENAI_API_KEY'] = API_KEY\n",
        "  #openai.api_key = os.getenv(\"OPENAI_API_KEY\")\n",
        "  #print(\"OpenAI API key initialized successfully.\")"
      ],
      "metadata": {
        "id": "C3398f_cetsD"
      },
      "execution_count": null,
      "outputs": []
    },
    {
      "cell_type": "markdown",
      "metadata": {
        "id": "5NL93eSL-mLi"
      },
      "source": [
        "#### Importing the API call function"
      ]
    },
    {
      "cell_type": "code",
      "source": [
        "# Import the function from the custom OpenAI API file\n",
        "import os\n",
        "import reason\n",
        "from reason import make_openai_api_call\n",
        "from reason import make_openai_reasoning_call"
      ],
      "metadata": {
        "id": "0lMhv09G0kzr"
      },
      "execution_count": null,
      "outputs": []
    },
    {
      "cell_type": "markdown",
      "source": [
        "## Chain of Thought(COT)"
      ],
      "metadata": {
        "id": "UHjBYt-f6S4d"
      }
    },
    {
      "cell_type": "code",
      "source": [
        "# Import the function from the custom OpenAI API file\n",
        "import os\n",
        "import reason\n",
        "from reason import chain_of_thought_reasoning\n",
        "from reason import memory_reasoning_thread # import memory reasoning thread96"
      ],
      "metadata": {
        "id": "5SLXIJHF6kTQ"
      },
      "execution_count": null,
      "outputs": []
    },
    {
      "cell_type": "code",
      "source": [
        "# AI agent : the messages and prompts for memory agent tasks\n",
        "download(\"commons\",\"cot_messages_c6.py\") # downloaded messages and prompts"
      ],
      "metadata": {
        "id": "-1m3IiYhzhov",
        "colab": {
          "base_uri": "https://localhost:8080/"
        },
        "outputId": "60cd2357-2f3e-449f-b353-e7d9f7b448d1"
      },
      "execution_count": null,
      "outputs": [
        {
          "output_type": "stream",
          "name": "stdout",
          "text": [
            "Downloaded 'cot_messages_c6.py' successfully.\n"
          ]
        }
      ]
    },
    {
      "cell_type": "markdown",
      "source": [
        "### Generic Synthetic Trajectory Simulation"
      ],
      "metadata": {
        "id": "VesAR25Ywxcw"
      }
    },
    {
      "cell_type": "code",
      "source": [
        "import os\n",
        "import numpy as np\n",
        "import random\n",
        "import matplotlib.pyplot as plt\n",
        "from PIL import Image as PILImage\n",
        "\n",
        "def create_grid_with_trajectory(grid_size=200, num_points=50, missing_count=5):\n",
        "    grid = np.zeros((grid_size, grid_size), dtype=int)\n",
        "    trajectory = []\n",
        "\n",
        "    x = random.randint(0, grid_size - 1)\n",
        "    y = random.randint(0, grid_size - 1)\n",
        "    day = random.randint(1, 365)\n",
        "    timeslot = random.randint(0, 47)\n",
        "\n",
        "    directions = [(0, 1), (1, 0), (0, -1), (-1, 0)]\n",
        "    current_dir_index = random.randint(0, 3)\n",
        "\n",
        "    turn_weights = {-1: 0.15, 0: 0.70, 1: 0.15}\n",
        "\n",
        "    for _ in range(num_points):\n",
        "        turn = random.choices(list(turn_weights.keys()), weights=list(turn_weights.values()))[0]\n",
        "        current_dir_index = (current_dir_index + turn) % len(directions)\n",
        "        dx, dy = directions[current_dir_index]\n",
        "        new_x = x + dx\n",
        "        new_y = y + dy\n",
        "\n",
        "        if not (0 <= new_x < grid_size and 0 <= new_y < grid_size):\n",
        "            valid_indices = [idx for idx, (dx_temp, dy_temp) in enumerate(directions) if 0 <= x + dx_temp < grid_size and 0 <= y + dy_temp < grid_size]\n",
        "            if valid_indices:\n",
        "                current_dir_index = random.choice(valid_indices)\n",
        "                dx, dy = directions[current_dir_index]\n",
        "                new_x = x + dx\n",
        "                new_y = y + dy\n",
        "            else:\n",
        "                new_x, new_y = x, y\n",
        "\n",
        "        x, y = new_x, new_y\n",
        "        trajectory.append((day, timeslot, x, y))\n",
        "        grid[x, y] = 1\n",
        "        timeslot = (timeslot + random.randint(1, 3)) % 48\n",
        "\n",
        "    missing_indices = random.sample(range(len(trajectory)), min(missing_count, len(trajectory)))\n",
        "    for idx in missing_indices:\n",
        "        d, t, _, _ = trajectory[idx]\n",
        "        trajectory[idx] = (d, t, 999, 999)\n",
        "\n",
        "    x_coords = [x if x != 999 else np.nan for _, _, x, y in trajectory]\n",
        "    y_coords = [y if y != 999 else np.nan for _, _, x, y in trajectory]\n",
        "\n",
        "    plt.figure(figsize=(8, 8))\n",
        "    plt.plot(x_coords, y_coords, marker='o', linestyle='-', color='blue', label=\"Agent Trajectory\")\n",
        "\n",
        "    valid_indices = [i for i, (xx, yy) in enumerate(zip(x_coords, y_coords)) if not (np.isnan(xx) or np.isnan(yy))]\n",
        "    if len(valid_indices) > 1:\n",
        "        valid_x = [x_coords[i] for i in valid_indices]\n",
        "        valid_y = [y_coords[i] for i in valid_indices]\n",
        "        dx = np.diff(valid_x)\n",
        "        dy = np.diff(valid_y)\n",
        "        plt.quiver(valid_x[:-1], valid_y[:-1], dx, dy, angles='xy', scale_units='xy', scale=1, color='red', width=0.005, label=\"Direction\")\n",
        "\n",
        "    for (xx, yy) in zip(x_coords, y_coords):\n",
        "        if not np.isnan(xx) and not np.isnan(yy):\n",
        "            plt.plot(xx, yy, marker='D', markersize=10, color='green', label='Start')\n",
        "            break\n",
        "\n",
        "    for i, (d, t, x, y) in enumerate(trajectory):\n",
        "        if x == 999 and y == 999:\n",
        "            prev_valid = next_valid = None\n",
        "            for j in range(i - 1, -1, -1):\n",
        "                _, _, xp, yp = trajectory[j]\n",
        "                if xp != 999 and yp != 999:\n",
        "                    prev_valid = (xp, yp)\n",
        "                    break\n",
        "            for j in range(i + 1, len(trajectory)):\n",
        "                _, _, xp, yp = trajectory[j]\n",
        "                if xp != 999 and yp != 999:\n",
        "                    next_valid = (xp, yp)\n",
        "                    break\n",
        "            marker_x, marker_y = prev_valid if prev_valid else next_valid if next_valid else (None, None)\n",
        "            if marker_x is not None:\n",
        "                plt.plot(marker_x, marker_y, marker='x', markersize=10, color='magenta', label='Missing Data' if i == missing_indices[0] else \"\")\n",
        "\n",
        "    plt.title(\"Agent Trajectory with Direction Arrows and Missing Data\")\n",
        "    plt.xlabel(\"X coordinate\")\n",
        "    plt.ylabel(\"Y coordinate\")\n",
        "    plt.grid(True)\n",
        "    plt.legend()\n",
        "    plt.savefig(\"mobility.png\")\n",
        "    plt.close()\n",
        "\n",
        "    return grid, trajectory"
      ],
      "metadata": {
        "id": "ighe4XgT-OBZ"
      },
      "execution_count": null,
      "outputs": []
    },
    {
      "cell_type": "code",
      "source": [
        "import json\n",
        "import os\n",
        "import textwrap\n",
        "from PIL import Image as PILImage\n",
        "\n",
        "def handle_mobility_orchestrator(muser_message1, msystem_message_s1, mgeneration, mimcontent4, mimcontent4b):\n",
        "    grid, trajectory = create_grid_with_trajectory(grid_size=200, num_points=50, missing_count=5)\n",
        "\n",
        "    trajectory_json = json.dumps({\"trajectory\": trajectory}, indent=2)\n",
        "    #print(\"Trajectory Data (JSON):\\n\", trajectory_json)\n",
        "    muser_message = f\"{muser_message1}\\n\\nHere is the trajectory data:\\n{trajectory_json}\"\n",
        "\n",
        "    reasoning_steps = reason.mobility_agent_reasoning_thread(\n",
        "        muser_message, msystem_message_s1, mgeneration, mimcontent4, mimcontent4b\n",
        "    )\n",
        "\n",
        "    reasoning_steps.insert(0, (\"Generated Trajectory Data:\", trajectory))\n",
        "\n",
        "    return reasoning_steps"
      ],
      "metadata": {
        "id": "yhfbJF-F-ZZh"
      },
      "execution_count": null,
      "outputs": []
    },
    {
      "cell_type": "markdown",
      "source": [
        "### Generative Predictive Engine"
      ],
      "metadata": {
        "id": "_IOEVVQF-ceC"
      }
    },
    {
      "cell_type": "code",
      "source": [
        "def handle_mobility(user_message):\n",
        "    from cot_messages_c6 import msystem_message_s1, mgeneration, mimcontent4,muser_message1\n",
        "    mimcontent4b=mimcontent4\n",
        "    #call Generic Synthetic Trajectory Simulation and Predictive System\n",
        "    reasoning_steps = handle_mobility_orchestrator(muser_message1, msystem_message_s1, mgeneration, mimcontent4, mimcontent4b)\n",
        "    return reasoning_steps"
      ],
      "metadata": {
        "id": "9mJhYF2I-eJZ"
      },
      "execution_count": null,
      "outputs": []
    },
    {
      "cell_type": "code",
      "source": [
        "from PIL import Image as PILImage\n",
        "import os\n",
        "user_message=\"Check the delivery path\"\n",
        "output=handle_mobility(user_message)\n",
        "# Display mobility.png if it exists and the \"Mobility\" instruction is selected\n",
        "if os.path.exists(\"mobility.png\"):\n",
        "  original_image = PILImage.open(\"mobility.png\")\n",
        "  display(original_image)\n",
        "print(output)"
      ],
      "metadata": {
        "id": "FyfDvswLu6lp"
      },
      "execution_count": null,
      "outputs": []
    },
    {
      "cell_type": "code",
      "source": [
        "def transform_openai_output(output):\n",
        "    \"\"\"\n",
        "    Takes the 'output' (a list/tuple returned by OpenAI) and transforms\n",
        "    it into a nicely formatted multiline string.\n",
        "    \"\"\"\n",
        "    lines = []\n",
        "    for item in output:\n",
        "        # Case 1: If we get a tuple with two elements:\n",
        "        #         (label_string, list_of_tuples or other data)\n",
        "        if isinstance(item, tuple) and len(item) == 2:\n",
        "            label, content = item\n",
        "            # Print the label\n",
        "            lines.append(str(label).strip())\n",
        "            # If the second element is a list of tuples, format each\n",
        "            if isinstance(content, list):\n",
        "                for row in content:\n",
        "                    lines.append(\"  \" + str(row))\n",
        "            else:\n",
        "                # Otherwise just add it in a readable way\n",
        "                lines.append(str(content).strip())\n",
        "\n",
        "        # Case 2: Otherwise, just handle it as a string\n",
        "        else:\n",
        "            lines.append(str(item).strip())\n",
        "\n",
        "    # Join all lines into one neatly formatted string\n",
        "    return \"\\n\".join(lines)\n",
        "\n",
        "\n",
        "\n",
        "pretty_response = transform_openai_output(output)\n",
        "print(pretty_response)\n"
      ],
      "metadata": {
        "colab": {
          "base_uri": "https://localhost:8080/"
        },
        "id": "FbZOS1xYyQvA",
        "outputId": "316a426f-62b9-4181-bafb-c3cdd41fe3f0"
      },
      "execution_count": null,
      "outputs": [
        {
          "output_type": "stream",
          "name": "stdout",
          "text": [
            "Generated Trajectory Data:\n",
            "  (211, 32, 197, 65)\n",
            "  (211, 35, 999, 999)\n",
            "  (211, 36, 197, 63)\n",
            "  (211, 39, 196, 63)\n",
            "  (211, 41, 195, 63)\n",
            "  (211, 43, 194, 63)\n",
            "  (211, 45, 193, 63)\n",
            "  (211, 46, 192, 63)\n",
            "  (211, 1, 191, 63)\n",
            "  (211, 2, 999, 999)\n",
            "  (211, 4, 999, 999)\n",
            "  (211, 5, 190, 63)\n",
            "  (211, 7, 190, 64)\n",
            "  (211, 9, 190, 65)\n",
            "  (211, 10, 190, 66)\n",
            "  (211, 12, 190, 67)\n",
            "  (211, 14, 190, 68)\n",
            "  (211, 16, 190, 69)\n",
            "  (211, 18, 190, 70)\n",
            "  (211, 19, 191, 70)\n",
            "  (211, 22, 192, 70)\n",
            "  (211, 23, 999, 999)\n",
            "  (211, 26, 192, 68)\n",
            "  (211, 29, 192, 67)\n",
            "  (211, 30, 191, 67)\n",
            "  (211, 32, 191, 68)\n",
            "  (211, 35, 191, 69)\n",
            "  (211, 36, 191, 70)\n",
            "  (211, 39, 191, 71)\n",
            "  (211, 41, 192, 71)\n",
            "  (211, 44, 192, 70)\n",
            "  (211, 46, 192, 69)\n",
            "  (211, 1, 192, 68)\n",
            "  (211, 4, 192, 67)\n",
            "  (211, 5, 191, 67)\n",
            "  (211, 6, 191, 68)\n",
            "  (211, 9, 191, 69)\n",
            "  (211, 10, 191, 70)\n",
            "  (211, 12, 191, 71)\n",
            "  (211, 14, 192, 71)\n",
            "  (211, 17, 999, 999)\n",
            "  (211, 20, 192, 73)\n",
            "  (211, 23, 192, 74)\n",
            "  (211, 24, 192, 75)\n",
            "  (211, 25, 193, 75)\n",
            "  (211, 26, 194, 75)\n",
            "  (211, 27, 195, 75)\n",
            "  (211, 29, 196, 75)\n",
            "  (211, 32, 197, 75)\n",
            "  (211, 34, 197, 76)\n",
            "Process: the mobility agent is thinking\n",
            "Customer message: **Debugging Step: Detected Missing Coordinates**\n",
            "\n",
            "Here is the list of detected missing coordinates from the dataset:\n",
            "\n",
            "1. [211, 35, 999, 999]\n",
            "2. [211, 2, 999, 999]\n",
            "3. [211, 4, 999, 999]\n",
            "4. [211, 23, 999, 999]\n",
            "5. [211, 17, 999, 999]\n",
            "\n",
            "**Prediction of Missing Values**\n",
            "\n",
            "Now, let's predict the missing values based on the trajectory pattern:\n",
            "\n",
            "1. **[211, 35, 999, 999]**: \n",
            "   - Previous: [211, 32, 197, 65]\n",
            "   - Next: [211, 36, 197, 63]\n",
            "   - Predicted: [211, 35, 197, 64] (average of 65 and 63)\n",
            "\n",
            "2. **[211, 2, 999, 999]**:\n",
            "   - Previous: [211, 1, 191, 63]\n",
            "   - Next: [211, 4, 999, 999] (but we can use [211, 5, 190, 63] as the next valid point)\n",
            "   - Predicted: [211, 2, 190, 63] (consistent with the pattern of decreasing x by 1)\n",
            "\n",
            "3. **[211, 4, 999, 999]**:\n",
            "   - Previous: [211, 2, 190, 63] (predicted)\n",
            "   - Next: [211, 5, 190, 63]\n",
            "   - Predicted: [211, 4, 190, 63] (consistent with the pattern)\n",
            "\n",
            "4. **[211, 23, 999, 999]**:\n",
            "   - Previous: [211, 22, 192, 70]\n",
            "   - Next: [211, 26, 192, 68]\n",
            "   - Predicted: [211, 23, 192, 69] (average of 70 and 68)\n",
            "\n",
            "5. **[211, 17, 999, 999]**:\n",
            "   - Previous: [211, 14, 192, 71]\n",
            "   - Next: [211, 20, 192, 73]\n",
            "   - Predicted: [211, 17, 192, 72] (average of 71 and 73)\n",
            "\n",
            "**Final JSON Output with Predicted Values**\n",
            "\n",
            "```json\n",
            "{\n",
            "  \"predicted_coordinates\": [\n",
            "    [211, 35, 197, 64],\n",
            "    [211, 2, 190, 63],\n",
            "    [211, 4, 190, 63],\n",
            "    [211, 23, 192, 69],\n",
            "    [211, 17, 192, 72]\n",
            "  ]\n",
            "}\n",
            "```\n",
            "\n",
            "This output reflects the predicted values for the missing coordinates based on the identified patterns in the trajectory data.\n"
          ]
        }
      ]
    }
  ]
}