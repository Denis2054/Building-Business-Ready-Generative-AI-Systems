{
  "nbformat": 4,
  "nbformat_minor": 0,
  "metadata": {
    "colab": {
      "provenance": [],
      "authorship_tag": "ABX9TyPBKSOWVs7RT5P6BiECuXxC"
    },
    "kernelspec": {
      "name": "python3",
      "display_name": "Python 3"
    },
    "language_info": {
      "name": "python"
    }
  },
  "cells": [
    {
      "cell_type": "markdown",
      "source": [
        "# **Generative AI intelligent controller orchestrator**\n",
        "copyright 2025, Denis Rothman\n",
        "\n",
        "This notebook demonstrates the implementation of a centralized AI controller orchestrator to manage AI agents for various tasks such as sentiment analysis and semantic analysis.\n",
        "\n",
        "We will not provide the orchestrator with an explicit task tag. The goal of the notebook is to use GPT-4o's semantic text similarity capacity to find the best scenario containing instructions to perform a task itself based on the user input.\n",
        "\n",
        "**Table of Contents**\n",
        "\n",
        "1. **Environment Setup**  \n",
        "   Installation and API key configuration for OpenAI.\n",
        "2. **Scenario Definitions**    \n",
        "Predefined agent behaviors and task-specific workflows.\n",
        "3. **AI Controller Logic**   \n",
        "Mechanisms for intent recognition and agent selection.\n",
        "4. **Generative AI Agent Integration**  \n",
        " Dynamic task selection via OpenAI's GPT API.\n",
        "5. **Agent Task Execution**   \n",
        "   Semantic matching and vector similarity for task alignment.\n",
        "6. **Additional AI Services**   \n",
        "   Web search integration and retrieval-augmented generation (RAG).\n",
        "7. **Execution Workflow**   \n",
        "   End-to-end examples of agent interaction and task processing.\n"
      ],
      "metadata": {
        "id": "V44bTqjnKFxZ"
      }
    },
    {
      "cell_type": "markdown",
      "source": [
        "# Setting up the environment"
      ],
      "metadata": {
        "id": "L2VKAYbVikQb"
      }
    },
    {
      "cell_type": "code",
      "source": [
        "#!curl -L https://raw.githubusercontent.com/Denis2054/Building-Business-Ready-Generative-AI-Systems/master/commons/grequests.py --output grequests.py"
      ],
      "metadata": {
        "id": "vzkCTNNChWAJ"
      },
      "execution_count": null,
      "outputs": []
    },
    {
      "cell_type": "code",
      "source": [
        "from grequests import download\n",
        "download(\"commons\",\"requirements01.py\")\n",
        "download(\"commons\",\"openai_setup.py\")\n",
        "download(\"commons\",\"openai_api.py\")"
      ],
      "metadata": {
        "colab": {
          "base_uri": "https://localhost:8080/"
        },
        "outputId": "fddea40f-a798-48c3-d0c6-2f9f1191f355",
        "id": "G_PuE5rjhWAK"
      },
      "execution_count": null,
      "outputs": [
        {
          "output_type": "stream",
          "name": "stdout",
          "text": [
            "Downloaded 'requirements01.py' successfully.\n",
            "Downloaded 'openai_setup.py' successfully.\n",
            "Downloaded 'openai_api.py' successfully.\n"
          ]
        }
      ]
    },
    {
      "cell_type": "markdown",
      "source": [
        "## OpenAI"
      ],
      "metadata": {
        "id": "eU-NFetKFcaG"
      }
    },
    {
      "cell_type": "markdown",
      "source": [
        "### Installing OpenAI"
      ],
      "metadata": {
        "id": "9kNLfjTfAnFR"
      }
    },
    {
      "cell_type": "code",
      "source": [
        "# Run the setup script to install and import dependencies\n",
        "%run requirements01"
      ],
      "metadata": {
        "colab": {
          "base_uri": "https://localhost:8080/"
        },
        "id": "a7i8j5vnpatH",
        "outputId": "d8238c29-64e2-41f4-ab85-ab8d0d0eb5db"
      },
      "execution_count": null,
      "outputs": [
        {
          "output_type": "stream",
          "name": "stdout",
          "text": [
            "Uninstalling 'openai'...\n",
            "Installing 'openai' version 1.57.1...\n",
            "'openai' version 1.57.1 is installed.\n"
          ]
        }
      ]
    },
    {
      "cell_type": "markdown",
      "source": [
        "### Initializing the OpenAI API key"
      ],
      "metadata": {
        "id": "O03SZzGGAreV"
      }
    },
    {
      "cell_type": "code",
      "source": [
        "google_secrets=True\n",
        "if google_secrets==True:\n",
        "  import openai_setup\n",
        "  openai_setup.initialize_openai_api()\n",
        "else:\n",
        "  # Set the API key in the environment and OpenAI\n",
        "  # inititalize your key with a secure function or enter it directly here\n",
        "  #API_KEY=[YOUR API KEY]\n",
        "  import os\n",
        "  os.environ['OPENAI_API_KEY'] = API_KEY\n",
        "  openai.api_key = os.getenv(\"OPENAI_API_KEY\")\n",
        "  print(\"OpenAI API key initialized successfully.\")"
      ],
      "metadata": {
        "id": "pDn09vPbAXPT",
        "colab": {
          "base_uri": "https://localhost:8080/"
        },
        "outputId": "09b5873b-d10e-47df-bb7b-608d9113b0c5"
      },
      "execution_count": null,
      "outputs": [
        {
          "output_type": "stream",
          "name": "stdout",
          "text": [
            "OpenAI API key initialized successfully.\n"
          ]
        }
      ]
    },
    {
      "cell_type": "code",
      "source": [
        "import openai_setup\n",
        "openai_setup.initialize_openai_api()"
      ],
      "metadata": {
        "id": "BvVIJbrLoQin",
        "colab": {
          "base_uri": "https://localhost:8080/"
        },
        "outputId": "f771a6a3-54a0-4849-d24d-03b101358907"
      },
      "execution_count": null,
      "outputs": [
        {
          "output_type": "stream",
          "name": "stdout",
          "text": [
            "OpenAI API key initialized successfully.\n"
          ]
        }
      ]
    },
    {
      "cell_type": "markdown",
      "source": [
        "## Importing the API call function"
      ],
      "metadata": {
        "id": "t7rpHgMpA6fG"
      }
    },
    {
      "cell_type": "code",
      "source": [
        "# Import the API request function\n",
        "import openai_api\n",
        "from openai_api import make_openai_api_call"
      ],
      "metadata": {
        "id": "0lMhv09G0kzr"
      },
      "execution_count": null,
      "outputs": []
    },
    {
      "cell_type": "markdown",
      "source": [
        "# Prompt (user input or system input)"
      ],
      "metadata": {
        "id": "ctjRPNdxpgmg"
      }
    },
    {
      "cell_type": "code",
      "source": [
        "prompt=1\n",
        "if prompt==1:\n",
        "  input = \"Gladiator II is a great movie although I didn't like some of the scenes. I liked the actors though. Overall I really enjoyed the experience.\"\n",
        "if prompt==2:\n",
        "  input = \"Generative AI models such as GPT-4o can be built into Generative AI Systems. Provide more information.\""
      ],
      "metadata": {
        "id": "TaPGm9qKFJ9F"
      },
      "execution_count": null,
      "outputs": []
    },
    {
      "cell_type": "markdown",
      "source": [
        "# Scenario Library (repository)\n",
        "\n",
        "Intent recognition"
      ],
      "metadata": {
        "id": "bTezPsKImHub"
      }
    },
    {
      "cell_type": "code",
      "source": [
        "scenarios = [\n",
        "    {\n",
        "        \"scenario_number\": 1,\n",
        "        \"description\": \"Market Semantic analysis.You will be provided with a market survey on a give range of products.The term market must be in the user or system input. Your task is provide an analysis.\"\n",
        "    },\n",
        "\n",
        "    {\n",
        "        \"scenario_number\": 2,\n",
        "        \"description\": \" Sentiment analysis  Read the content and classify the content as an opinion  If it is not opinion, stop there  If it is an opinion then your task is to perform a sentiment analysis on these statements and provide a score with the label: Analysis score: followed by a numerical value between 0 and 1  with no + or - sign.Add an explanation.\"\n",
        "    },\n",
        "    {\n",
        "        \"scenario_number\": 3,\n",
        "        \"description\": \"Semantic analysis.This is not an analysis but a semantic search. Provide more information on the topic.\"\n",
        "    }\n",
        "]"
      ],
      "metadata": {
        "id": "8r0rqe9jmo2w"
      },
      "execution_count": null,
      "outputs": []
    },
    {
      "cell_type": "code",
      "source": [
        "# Original list of dictionaries\n",
        "scenario_instructions = [\n",
        "    {\n",
        "        \"Market Semantic analysis.You will be provided with a market survey on a give range of products.The term market must be in the user or system input. Your task is provide an analysis.\"\n",
        "    },\n",
        "    {\n",
        "        \"Sentiment analysis  Read the content return a sentiment analysis on this text and provide a score with the label named : Sentiment analysis score followed by a numerical value between 0 and 1  with no + or - sign and  add an explanation to justify the score.\"\n",
        "    },\n",
        "    {\n",
        "        \"Semantic analysis.This is not an analysis but a semantic search. Provide more information on the topic.\"\n",
        "    }\n",
        "]"
      ],
      "metadata": {
        "id": "unU8-p2Iyf0a"
      },
      "execution_count": null,
      "outputs": []
    },
    {
      "cell_type": "code",
      "source": [
        "# Extract the strings from each dictionary\n",
        "instructions_as_strings = [list(entry)[0] for entry in scenario_instructions]"
      ],
      "metadata": {
        "id": "chgWMchY8DT8"
      },
      "execution_count": null,
      "outputs": []
    },
    {
      "cell_type": "markdown",
      "source": [
        "# Intent Recognition and Scenario Selection"
      ],
      "metadata": {
        "id": "b8_EZH4nk637"
      }
    },
    {
      "cell_type": "markdown",
      "source": [
        "## Generative AI selection"
      ],
      "metadata": {
        "id": "AQMDMfW_4IwC"
      }
    },
    {
      "cell_type": "code",
      "source": [
        "# Define the parameters for the function call\n",
        "mrole = \"system\"\n",
        "mcontent = \"You are an assistant that matches user inputs to predefined scenarios. Select the scenario that best matches the input. Respond with the scenario_number only.\"\n",
        "user_role = \"user\"\n",
        "\n",
        "# Adjust `input` to combine user input with scenarios\n",
        "selection_input = f\"User input: {input}\\nScenarios: {scenarios}\"\n",
        "print(selection_input)\n",
        "\n",
        "# Call the function using your standard API call\n",
        "response = openai_api.make_openai_api_call(selection_input, mrole, mcontent, user_role)"
      ],
      "metadata": {
        "id": "r83RuB8c4IwD",
        "colab": {
          "base_uri": "https://localhost:8080/"
        },
        "outputId": "b8435407-6579-4bd9-a38d-b9aa0769d437"
      },
      "execution_count": null,
      "outputs": [
        {
          "output_type": "stream",
          "name": "stdout",
          "text": [
            "User input: Gladiator II is a great movie although I didn't like some of the scenes. I liked the actors though. Overall I really enjoyed the experience.\n",
            "Scenarios: [{'scenario_number': 1, 'description': 'Market Semantic analysis.You will be provided with a market survey on a give range of products.The term market must be in the user or system input. Your task is provide an analysis.'}, {'scenario_number': 2, 'description': ' Sentiment analysis  Read the content and classify the content as an opinion  If it is not opinion, stop there  If it is an opinion then your task is to perform a sentiment analysis on these statements and provide a score with the label: Analysis score: followed by a numerical value between 0 and 1  with no + or - sign.Add an explanation.'}, {'scenario_number': 3, 'description': 'Semantic analysis.This is not an analysis but a semantic search. Provide more information on the topic.'}]\n"
          ]
        }
      ]
    },
    {
      "cell_type": "code",
      "source": [
        "# Print the response\n",
        "print(\"Scenario:\",response )"
      ],
      "metadata": {
        "id": "z9x23xO04IwD",
        "colab": {
          "base_uri": "https://localhost:8080/"
        },
        "outputId": "6cd95e37-dfc9-4ac5-e4a4-14dfa67d504c"
      },
      "execution_count": null,
      "outputs": [
        {
          "output_type": "stream",
          "name": "stdout",
          "text": [
            "Scenario: 2\n"
          ]
        }
      ]
    },
    {
      "cell_type": "code",
      "source": [
        "response"
      ],
      "metadata": {
        "id": "iNRAqs_Y4IwE",
        "colab": {
          "base_uri": "https://localhost:8080/",
          "height": 36
        },
        "outputId": "019c1ef9-394b-491d-c861-bc428da3c90a"
      },
      "execution_count": null,
      "outputs": [
        {
          "output_type": "execute_result",
          "data": {
            "text/plain": [
              "'2'"
            ],
            "application/vnd.google.colaboratory.intrinsic+json": {
              "type": "string"
            }
          },
          "metadata": {},
          "execution_count": 32
        }
      ]
    },
    {
      "cell_type": "code",
      "source": [
        "scenario_number=int(response)\n",
        "instructions=scenario_instructions[scenario_number-1]\n",
        "print(instructions)"
      ],
      "metadata": {
        "id": "8eLdNsQg4IwE",
        "colab": {
          "base_uri": "https://localhost:8080/"
        },
        "outputId": "15feecb1-1ed2-41c5-e928-9f9e62a5dc4d"
      },
      "execution_count": null,
      "outputs": [
        {
          "output_type": "stream",
          "name": "stdout",
          "text": [
            "{'Sentiment analysis  Read the content return a sentiment analysis nalysis on this text and provide a score with the label named : Sentiment analysis score followed by a numerical value between 0 and 1  with no + or - sign and  add an explanation to justify the score.'}\n"
          ]
        }
      ]
    },
    {
      "cell_type": "code",
      "source": [
        "print(input)"
      ],
      "metadata": {
        "id": "6hMcEdVv44Ki",
        "colab": {
          "base_uri": "https://localhost:8080/"
        },
        "outputId": "e928019e-5ece-4012-d1fa-1b4fb192d244"
      },
      "execution_count": null,
      "outputs": [
        {
          "output_type": "stream",
          "name": "stdout",
          "text": [
            "Gladiator II is a great movie although I didn't like some of the scenes. I liked the actors though. Overall I really enjoyed the experience.\n"
          ]
        }
      ]
    },
    {
      "cell_type": "markdown",
      "source": [
        "# Generative AI Agent"
      ],
      "metadata": {
        "id": "VK8k308dkwgJ"
      }
    },
    {
      "cell_type": "markdown",
      "source": [
        "### API Call"
      ],
      "metadata": {
        "id": "QDj0PUWBrZyt"
      }
    },
    {
      "cell_type": "code",
      "source": [
        "print(input)"
      ],
      "metadata": {
        "colab": {
          "base_uri": "https://localhost:8080/"
        },
        "id": "2adQOKTG55Pk",
        "outputId": "d970a31d-abbb-47a2-f3a9-ffe85c43c63b"
      },
      "execution_count": null,
      "outputs": [
        {
          "output_type": "stream",
          "name": "stdout",
          "text": [
            "Gladiator II is a great movie although I didn't like some of the scenes. I liked the actors though. Overall I really enjoyed the experience.\n"
          ]
        }
      ]
    },
    {
      "cell_type": "code",
      "source": [
        "# Accessing by line number (1-based index)\n",
        "line_number = scenario_number\n",
        "instruction = instructions_as_strings[line_number - 1]  # Adjusting for 0-based indexing\n",
        "print(f\"Instruction on line {line_number}:\\n{instruction}\")\n",
        "mrole = \"system\"\n",
        "user_role = \"user\"\n",
        "mcontent = instruction"
      ],
      "metadata": {
        "colab": {
          "base_uri": "https://localhost:8080/"
        },
        "id": "UIp7FaG-8UiN",
        "outputId": "5812ce19-a9e1-4a85-afb8-d4ac1f3ece01"
      },
      "execution_count": null,
      "outputs": [
        {
          "output_type": "stream",
          "name": "stdout",
          "text": [
            "Instruction on line 2:\n",
            "Sentiment analysis  Read the content return a sentiment analysis nalysis on this text and provide a score with the label named : Sentiment analysis score followed by a numerical value between 0 and 1  with no + or - sign and  add an explanation to justify the score.\n"
          ]
        }
      ]
    },
    {
      "cell_type": "code",
      "source": [
        "# API function call\n",
        "sc_input=instruction +\" \"+ input\n",
        "print(sc_input)\n",
        "task_response = openai_api.make_openai_api_call(sc_input,mrole,mcontent,user_role)"
      ],
      "metadata": {
        "id": "eQ8gIdINJOIk",
        "colab": {
          "base_uri": "https://localhost:8080/"
        },
        "outputId": "f9d8e77c-ddce-4e21-c541-769cd87b8717"
      },
      "execution_count": null,
      "outputs": [
        {
          "output_type": "stream",
          "name": "stdout",
          "text": [
            "Sentiment analysis  Read the content return a sentiment analysis nalysis on this text and provide a score with the label named : Sentiment analysis score followed by a numerical value between 0 and 1  with no + or - sign and  add an explanation to justify the score. Gladiator II is a great movie although I didn't like some of the scenes. I liked the actors though. Overall I really enjoyed the experience.\n"
          ]
        }
      ]
    },
    {
      "cell_type": "code",
      "source": [
        "print(task_response)"
      ],
      "metadata": {
        "colab": {
          "base_uri": "https://localhost:8080/"
        },
        "id": "aCRet8A_5vLX",
        "outputId": "0b7f4444-af7e-4478-bad7-80576902fb34"
      },
      "execution_count": null,
      "outputs": [
        {
          "output_type": "stream",
          "name": "stdout",
          "text": [
            "Sentiment analysis score 0.75\n",
            "\n",
            "The text expresses a generally positive sentiment towards the movie \"Gladiator II.\" The use of words like \"great movie,\" \"liked the actors,\" and \"really enjoyed the experience\" indicates a favorable opinion. However, the mention of not liking some of the scenes introduces a slight negative element. Despite this, the overall enjoyment and positive remarks about the actors and the movie as a whole outweigh the negative aspect, resulting in a sentiment score leaning towards the positive side.\n"
          ]
        }
      ]
    }
  ]
}