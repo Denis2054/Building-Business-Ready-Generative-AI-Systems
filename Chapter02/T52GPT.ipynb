{
  "nbformat": 4,
  "nbformat_minor": 0,
  "metadata": {
    "colab": {
      "provenance": [],
      "collapsed_sections": [
        "ss990TIoLMCC"
      ],
      "toc_visible": true,
      "authorship_tag": "ABX9TyPNSmxUTikQM+WQzPW/ydvj"
    },
    "kernelspec": {
      "name": "python3",
      "display_name": "Python 3"
    },
    "language_info": {
      "name": "python"
    }
  },
  "cells": [
    {
      "cell_type": "markdown",
      "source": [
        "# **Implementing T5 task tags in GPT-4o**\n",
        "\n",
        "copyright 2025, Denis Rothman\n",
        "\n",
        "This notebook shows that GPT-4o can implicitly interpret task instructions without explicit task tags.\n"
      ],
      "metadata": {
        "id": "V44bTqjnKFxZ"
      }
    },
    {
      "cell_type": "markdown",
      "source": [
        "# Setting up the environment"
      ],
      "metadata": {
        "id": "L2VKAYbVikQb"
      }
    },
    {
      "cell_type": "markdown",
      "source": [
        "This notebook was developed in Google Colab. Colab includes many pre-installed libraries and sets `/content/` as the default directory, meaning you can access files directly by their filename if you wish (e.g., `filename` instead of needing to specify `/content/filename`). This differs from local environments, where you'll often need to install libraries or specify full file paths."
      ],
      "metadata": {
        "id": "2HUFka5f4kcG"
      }
    },
    {
      "cell_type": "markdown",
      "source": [
        "## File downloading script\n",
        "\n",
        "grequests contains a script to download files from the repository"
      ],
      "metadata": {
        "id": "S8_G2ePO11rQ"
      }
    },
    {
      "cell_type": "code",
      "source": [
        "!curl -L https://raw.githubusercontent.com/Denis2054/Building-Business-Ready-Generative-AI-Systems/master/commons/grequests.py --output grequests.py"
      ],
      "metadata": {
        "id": "bz8hrO444-N2"
      },
      "execution_count": null,
      "outputs": []
    },
    {
      "cell_type": "markdown",
      "source": [
        "## Installing OpenAI"
      ],
      "metadata": {
        "id": "9kNLfjTfAnFR"
      }
    },
    {
      "cell_type": "code",
      "source": [
        "from grequests import download\n",
        "download(\"commons\",\"requirements01.py\")\n",
        "download(\"commons\",\"openai_setup.py\")\n",
        "download(\"commons\",\"openai_api.py\")"
      ],
      "metadata": {
        "colab": {
          "base_uri": "https://localhost:8080/"
        },
        "outputId": "4fde6753-c183-4810-931d-81aff1f9e5ac",
        "id": "G_PuE5rjhWAK"
      },
      "execution_count": null,
      "outputs": [
        {
          "output_type": "stream",
          "name": "stdout",
          "text": [
            "Downloaded 'requirements01.py' successfully.\n",
            "Downloaded 'openai_setup.py' successfully.\n",
            "Downloaded 'openai_api.py' successfully.\n"
          ]
        }
      ]
    },
    {
      "cell_type": "code",
      "source": [
        "# Run the setup script to install and import dependencies\n",
        "%run requirements01"
      ],
      "metadata": {
        "colab": {
          "base_uri": "https://localhost:8080/"
        },
        "id": "a7i8j5vnpatH",
        "outputId": "0de31c85-8852-4734-e468-03196060ac05"
      },
      "execution_count": null,
      "outputs": [
        {
          "output_type": "stream",
          "name": "stdout",
          "text": [
            "Uninstalling 'openai'...\n",
            "Installing 'openai' version 1.57.1...\n",
            "'openai' version 1.57.1 is installed.\n"
          ]
        }
      ]
    },
    {
      "cell_type": "markdown",
      "source": [
        "#### Initializing the OpenAI API key\n",
        "\n"
      ],
      "metadata": {
        "id": "O03SZzGGAreV"
      }
    },
    {
      "cell_type": "code",
      "source": [
        "google_secrets=True #activates Google secrets in Google Colab\n",
        "if google_secrets==True:\n",
        "  import openai_setup\n",
        "  openai_setup.initialize_openai_api()"
      ],
      "metadata": {
        "id": "pDn09vPbAXPT",
        "colab": {
          "base_uri": "https://localhost:8080/"
        },
        "outputId": "f5cdbcb7-e69b-4287-8115-0e0cb704816f"
      },
      "execution_count": null,
      "outputs": [
        {
          "output_type": "stream",
          "name": "stdout",
          "text": [
            "OpenAI API key initialized successfully.\n"
          ]
        }
      ]
    },
    {
      "cell_type": "code",
      "source": [
        "if google_secrets==False: # Uncomment the code and choose any method you wish to initialize the API_KEY\n",
        "  import os\n",
        "  #API_KEY=[YOUR API_KEY]\n",
        "  #os.environ['OPENAI_API_KEY'] = API_KEY\n",
        "  #openai.api_key = os.getenv(\"OPENAI_API_KEY\")\n",
        "  #print(\"OpenAI API key initialized successfully.\")"
      ],
      "metadata": {
        "id": "C3398f_cetsD"
      },
      "execution_count": null,
      "outputs": []
    },
    {
      "cell_type": "markdown",
      "metadata": {
        "id": "N9lmDexfAqC8"
      },
      "source": [
        "#### Importing the API call function"
      ]
    },
    {
      "cell_type": "code",
      "source": [
        "# Import the function from the custom OpenAI API file\n",
        "import openai_api\n",
        "from openai_api import make_openai_api_call"
      ],
      "metadata": {
        "id": "1mXic4kr_2zN"
      },
      "execution_count": null,
      "outputs": []
    },
    {
      "cell_type": "markdown",
      "source": [
        "# CoLA (Corpus of Linguistic Acceptability)\n",
        "\n",
        "\n",
        "\n",
        " Linguistic acceptability classification"
      ],
      "metadata": {
        "id": "kL2T2mQCLHSg"
      }
    },
    {
      "cell_type": "code",
      "source": [
        "input=\"This aint the right way to talk.\"\n",
        "mrole = \"system\"\n",
        "user_role = \"user\"\n",
        "mcontent = \"Follow the instructions in the input\""
      ],
      "metadata": {
        "id": "krJlLe7lP9CA"
      },
      "execution_count": null,
      "outputs": []
    },
    {
      "cell_type": "code",
      "source": [
        "# API function call\n",
        "task_response = openai_api.make_openai_api_call(input,mrole,mcontent,user_role)"
      ],
      "metadata": {
        "id": "1Fzm32l4P9CB"
      },
      "execution_count": null,
      "outputs": []
    },
    {
      "cell_type": "code",
      "source": [
        "print(task_response)"
      ],
      "metadata": {
        "colab": {
          "base_uri": "https://localhost:8080/"
        },
        "outputId": "a3257337-6f30-49e0-85dd-d2b99a8d0537",
        "id": "2TY5TDrcP9CB"
      },
      "execution_count": null,
      "outputs": [
        {
          "output_type": "stream",
          "name": "stdout",
          "text": [
            "I apologize if my previous response didn't meet your expectations. Please let me know how I can assist you better!\n"
          ]
        }
      ]
    },
    {
      "cell_type": "markdown",
      "source": [
        "## With an instruction"
      ],
      "metadata": {
        "id": "wpWFkQ3bQPFf"
      }
    },
    {
      "cell_type": "code",
      "source": [
        "input=\"Is the following sentence gramatically correct:This aint the right way to talk.\"\n",
        "mrole = \"system\"\n",
        "user_role = \"user\"\n",
        "mcontent = \"Follow the instructions in the input\""
      ],
      "metadata": {
        "id": "14FtVXevQa-x"
      },
      "execution_count": null,
      "outputs": []
    },
    {
      "cell_type": "code",
      "source": [
        "# API function call\n",
        "task_response = openai_api.make_openai_api_call(input,mrole,mcontent,user_role)"
      ],
      "metadata": {
        "id": "nX892PRMQa-y"
      },
      "execution_count": null,
      "outputs": []
    },
    {
      "cell_type": "code",
      "source": [
        "print(task_response)"
      ],
      "metadata": {
        "colab": {
          "base_uri": "https://localhost:8080/"
        },
        "outputId": "bde55dc4-327e-4597-b79e-f3916a868f2b",
        "id": "iku6OK25Qa-y"
      },
      "execution_count": null,
      "outputs": [
        {
          "output_type": "stream",
          "name": "stdout",
          "text": [
            "The sentence \"This aint the right way to talk.\" is not grammatically correct. Here is a corrected version:\n",
            "\n",
            "\"This isn't the right way to talk.\"\n",
            "\n",
            "Alternatively, if you want to maintain the informal tone, you could write:\n",
            "\n",
            "\"This ain't the right way to talk.\"\n",
            "\n",
            "Note that \"ain't\" is considered informal and nonstandard in formal writing.\n"
          ]
        }
      ]
    },
    {
      "cell_type": "markdown",
      "source": [
        "# Translation"
      ],
      "metadata": {
        "id": "8ssKRiADK6GE"
      }
    },
    {
      "cell_type": "code",
      "source": [
        "input=\"Translate this sentence into French: Paris is quite a city to visit.\"\n",
        "mrole = \"system\"\n",
        "user_role = \"user\"\n",
        "mcontent = \"Follow the instructions in the input\""
      ],
      "metadata": {
        "id": "UIp7FaG-8UiN"
      },
      "execution_count": null,
      "outputs": []
    },
    {
      "cell_type": "code",
      "source": [
        "# API function call\n",
        "task_response = openai_api.make_openai_api_call(input,mrole,mcontent,user_role)"
      ],
      "metadata": {
        "id": "eQ8gIdINJOIk"
      },
      "execution_count": null,
      "outputs": []
    },
    {
      "cell_type": "code",
      "source": [
        "print(task_response)"
      ],
      "metadata": {
        "colab": {
          "base_uri": "https://localhost:8080/"
        },
        "id": "aCRet8A_5vLX",
        "outputId": "eee8d834-8606-453b-93c1-93d06c383c9c"
      },
      "execution_count": null,
      "outputs": [
        {
          "output_type": "stream",
          "name": "stdout",
          "text": [
            "Paris est vraiment une ville à visiter.\n"
          ]
        }
      ]
    },
    {
      "cell_type": "markdown",
      "source": [
        "# STSB (Semantic Textual Similarity Benchmark)\n",
        "\n",
        "Semantic textual similarity between two texts"
      ],
      "metadata": {
        "id": "ss990TIoLMCC"
      }
    },
    {
      "cell_type": "code",
      "source": [
        "input=\"stsb:Sentence 1: This is a big dog. Sentence 2: This dog is very big.\"\n",
        "mrole = \"system\"\n",
        "user_role = \"user\"\n",
        "mcontent = \"Follow the instructions in the input\""
      ],
      "metadata": {
        "id": "6C1mMMhYRCOf"
      },
      "execution_count": null,
      "outputs": []
    },
    {
      "cell_type": "code",
      "source": [
        "# API function call\n",
        "task_response = openai_api.make_openai_api_call(input,mrole,mcontent,user_role)"
      ],
      "metadata": {
        "id": "K4Cgy-UXRCOg"
      },
      "execution_count": null,
      "outputs": []
    },
    {
      "cell_type": "code",
      "source": [
        "print(task_response)"
      ],
      "metadata": {
        "colab": {
          "base_uri": "https://localhost:8080/"
        },
        "outputId": "3d356eb2-7536-4f3c-b84c-7edc7536f10d",
        "id": "Yq4zOaZHRCOh"
      },
      "execution_count": null,
      "outputs": [
        {
          "output_type": "stream",
          "name": "stdout",
          "text": [
            "The sentences \"This is a big dog.\" and \"This dog is very big.\" are semantically similar. Both sentences convey the idea that the dog in question is large in size. The difference in wording does not significantly alter the meaning, as both sentences describe the same characteristic of the dog.\n"
          ]
        }
      ]
    },
    {
      "cell_type": "markdown",
      "source": [
        "# Summarization\n",
        "\n",
        "Semantic textual similarity between two texts"
      ],
      "metadata": {
        "id": "fBQAGGoTO8R0"
      }
    },
    {
      "cell_type": "code",
      "source": [
        "input=\"Summarize this text in 10 words maximum: The group walked in the forest on a nice sunny day. The birds were singing and everyone was happy.\"\n",
        "mrole = \"system\"\n",
        "user_role = \"user\"\n",
        "mcontent = \"Follow the instructions in the input\""
      ],
      "metadata": {
        "id": "Jszf-vudRfD8"
      },
      "execution_count": null,
      "outputs": []
    },
    {
      "cell_type": "code",
      "source": [
        "# API function call\n",
        "task_response = openai_api.make_openai_api_call(input,mrole,mcontent,user_role)"
      ],
      "metadata": {
        "id": "_zB1mXoMRfD9"
      },
      "execution_count": null,
      "outputs": []
    },
    {
      "cell_type": "code",
      "source": [
        "print(task_response)"
      ],
      "metadata": {
        "colab": {
          "base_uri": "https://localhost:8080/"
        },
        "outputId": "823bb072-d73c-4a88-eac3-89a9fd67e558",
        "id": "4tL6ILPIRfD-"
      },
      "execution_count": null,
      "outputs": [
        {
          "output_type": "stream",
          "name": "stdout",
          "text": [
            "Group enjoyed a sunny forest walk with singing birds.\n"
          ]
        }
      ]
    }
  ]
}